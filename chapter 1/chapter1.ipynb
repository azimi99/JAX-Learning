{
 "cells": [
  {
   "cell_type": "code",
   "execution_count": 2,
   "metadata": {},
   "outputs": [],
   "source": [
    "import jax\n",
    "import jax.numpy as jnp\n",
    "import numpy as np"
   ]
  },
  {
   "cell_type": "code",
   "execution_count": 3,
   "metadata": {},
   "outputs": [
    {
     "data": {
      "text/plain": [
       "Array([[ 4.2908535e+00, -3.5497880e-01,  3.2365820e+00, ...,\n",
       "         1.7582173e+00,  1.6552262e+00,  4.4780904e-01],\n",
       "       [ 5.5248916e-01,  4.9810520e-01,  3.3992612e+00, ...,\n",
       "        -4.8352739e-01,  1.3106327e+00,  7.4119699e-01],\n",
       "       [-6.2175333e-01,  1.8980707e+00,  2.8199699e+01, ...,\n",
       "        -9.3777597e-01,  2.9834471e+00, -6.9638664e-01],\n",
       "       ...,\n",
       "       [ 9.9432975e-02,  1.6582045e+01,  5.9136353e+00, ...,\n",
       "         2.1347990e+00,  2.2645648e+00,  1.1824804e-01],\n",
       "       [ 6.6936164e+00, -1.7576742e-01,  3.1529326e+00, ...,\n",
       "        -1.0557010e-01,  4.5092940e-01,  6.1506230e-01],\n",
       "       [ 9.1438246e+00,  2.7565269e+00,  3.6416953e+00, ...,\n",
       "         1.5194368e+00,  2.6418930e-02,  7.2142425e+00]], dtype=float32)"
      ]
     },
     "execution_count": 3,
     "metadata": {},
     "output_type": "execute_result"
    }
   ],
   "source": [
    "def f(x):\n",
    "    y1 = x + x*x + 3\n",
    "    y2 = x*x + x*x.T\n",
    "\n",
    "    return y1 * y2\n",
    "\n",
    "x = np.random.randn(3000, 3000).astype('float32')\n",
    "jax_x_gpu = jax.device_put(jnp.array(x), jax.devices('gpu')[0])\n",
    "jax_x_cpu = jax.device_put(jnp.array(x), jax.devices('cpu')[0])\n",
    "\n",
    "jax_f_cpu = jax.jit(f, backend='cpu')\n",
    "jax_f_gpu = jax.jit(f, backend='gpu')\n",
    "\n",
    "# warmup\n",
    "jax_f_cpu(jax_x_cpu)\n",
    "jax_f_gpu(jax_x_gpu)\n"
   ]
  },
  {
   "cell_type": "code",
   "execution_count": 4,
   "metadata": {},
   "outputs": [
    {
     "name": "stdout",
     "output_type": "stream",
     "text": [
      "51 ms ± 910 μs per loop (mean ± std. dev. of 7 runs, 100 loops each)\n"
     ]
    }
   ],
   "source": [
    "%timeit -n100 f(x)"
   ]
  },
  {
   "cell_type": "code",
   "execution_count": 5,
   "metadata": {},
   "outputs": [
    {
     "name": "stdout",
     "output_type": "stream",
     "text": [
      "106 ms ± 6.56 ms per loop (mean ± std. dev. of 7 runs, 100 loops each)\n"
     ]
    }
   ],
   "source": [
    "%timeit -n100 f(jax_x_cpu).block_until_ready()"
   ]
  },
  {
   "cell_type": "code",
   "execution_count": 7,
   "metadata": {},
   "outputs": [
    {
     "name": "stdout",
     "output_type": "stream",
     "text": [
      "14.8 ms ± 871 μs per loop (mean ± std. dev. of 7 runs, 100 loops each)\n"
     ]
    }
   ],
   "source": [
    "%timeit -n100 jax_f_cpu(jax_x_cpu).block_until_ready()"
   ]
  },
  {
   "cell_type": "code",
   "execution_count": 8,
   "metadata": {},
   "outputs": [
    {
     "name": "stdout",
     "output_type": "stream",
     "text": [
      "1.27 ms ± 538 μs per loop (mean ± std. dev. of 7 runs, 100 loops each)\n"
     ]
    }
   ],
   "source": [
    "%timeit -n100 f(jax_x_gpu).block_until_ready()"
   ]
  },
  {
   "cell_type": "code",
   "execution_count": 9,
   "metadata": {},
   "outputs": [
    {
     "name": "stdout",
     "output_type": "stream",
     "text": [
      "268 μs ± 59.6 μs per loop (mean ± std. dev. of 7 runs, 100 loops each)\n"
     ]
    }
   ],
   "source": [
    "%timeit -n100 jax_f_gpu(jax_x_gpu).block_until_ready()"
   ]
  },
  {
   "cell_type": "code",
   "execution_count": null,
   "metadata": {},
   "outputs": [],
   "source": []
  }
 ],
 "metadata": {
  "kernelspec": {
   "display_name": "jax",
   "language": "python",
   "name": "python3"
  },
  "language_info": {
   "codemirror_mode": {
    "name": "ipython",
    "version": 3
   },
   "file_extension": ".py",
   "mimetype": "text/x-python",
   "name": "python",
   "nbconvert_exporter": "python",
   "pygments_lexer": "ipython3",
   "version": "3.10.15"
  }
 },
 "nbformat": 4,
 "nbformat_minor": 2
}
